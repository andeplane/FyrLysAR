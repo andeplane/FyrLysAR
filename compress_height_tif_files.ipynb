{
 "cells": [
  {
   "cell_type": "code",
   "execution_count": 10,
   "id": "1435135a-dfad-42bd-9e61-535f463ec88b",
   "metadata": {},
   "outputs": [],
   "source": [
    "import numpy as np\n",
    "import math\n",
    "import os\n",
    "from tifffile import imread, imsave"
   ]
  },
  {
   "cell_type": "code",
   "execution_count": null,
   "id": "722e88ec-1f87-40ad-95b7-5c48d8a78e15",
   "metadata": {},
   "outputs": [],
   "source": [
    "#!pip install tifffile imagecodecs\n",
    "!pip install imagecodecs"
   ]
  },
  {
   "cell_type": "code",
   "execution_count": 12,
   "id": "38697125-06a6-4f87-8ef9-07d20d85adc6",
   "metadata": {},
   "outputs": [
    {
     "name": "stdout",
     "output_type": "stream",
     "text": [
      "Reducing file size on  /Users/kvakkefly/projects/joachim/open-elevation/data/6701_50m_33.tif\n",
      "Reducing file size on  /Users/kvakkefly/projects/joachim/open-elevation/data/7002_50m_33.tif\n",
      "Reducing file size on  /Users/kvakkefly/projects/joachim/open-elevation/data/7806_50m_33.tif\n",
      "Reducing file size on  /Users/kvakkefly/projects/joachim/open-elevation/data/6502_50m_33.tif\n",
      "Reducing file size on  /Users/kvakkefly/projects/joachim/open-elevation/data/7404_50m_33.tif\n",
      "Reducing file size on  /Users/kvakkefly/projects/joachim/open-elevation/data/7304_50m_33.tif\n"
     ]
    },
    {
     "name": "stderr",
     "output_type": "stream",
     "text": [
      "/var/folders/9h/6qh92c_s3pbf0xwq21p13clc0000gn/T/ipykernel_73847/705617584.py:16: DeprecationWarning: <tifffile.imsave> is deprecated. Use tifffile.imwrite\n",
      "  imsave('heightdata/'+filename, image)\n"
     ]
    },
    {
     "name": "stdout",
     "output_type": "stream",
     "text": [
      "Reducing file size on  /Users/kvakkefly/projects/joachim/open-elevation/data/66M1_50m_33.tif\n",
      "Reducing file size on  /Users/kvakkefly/projects/joachim/open-elevation/data/6900_50m_33.tif\n",
      "Reducing file size on  /Users/kvakkefly/projects/joachim/open-elevation/data/7607_50m_33.tif\n",
      "Reducing file size on  /Users/kvakkefly/projects/joachim/open-elevation/data/7906_50m_33.tif\n",
      "Reducing file size on  /Users/kvakkefly/projects/joachim/open-elevation/data/7102_50m_33.tif\n",
      "Reducing file size on  /Users/kvakkefly/projects/joachim/open-elevation/data/6601_50m_33.tif\n",
      "Reducing file size on  /Users/kvakkefly/projects/joachim/open-elevation/data/7707_50m_33.tif\n",
      "Reducing file size on  /Users/kvakkefly/projects/joachim/open-elevation/data/67M1_50m_33.tif\n",
      "Reducing file size on  /Users/kvakkefly/projects/joachim/open-elevation/data/7204_50m_33.tif\n",
      "Reducing file size on  /Users/kvakkefly/projects/joachim/open-elevation/data/7504_50m_33.tif\n",
      "Reducing file size on  /Users/kvakkefly/projects/joachim/open-elevation/data/6800_50m_33.tif\n",
      "Reducing file size on  /Users/kvakkefly/projects/joachim/open-elevation/data/7910_50m_33.tif\n",
      "Reducing file size on  /Users/kvakkefly/projects/joachim/open-elevation/data/6500_50m_33.tif\n",
      "Reducing file size on  /Users/kvakkefly/projects/joachim/open-elevation/data/7203_50m_33.tif\n",
      "Reducing file size on  /Users/kvakkefly/projects/joachim/open-elevation/data/7608_50m_33.tif\n",
      "Reducing file size on  /Users/kvakkefly/projects/joachim/open-elevation/data/7503_50m_33.tif\n",
      "Reducing file size on  /Users/kvakkefly/projects/joachim/open-elevation/data/7000_50m_33.tif\n",
      "Reducing file size on  /Users/kvakkefly/projects/joachim/open-elevation/data/6703_50m_33.tif\n",
      "Reducing file size on  /Users/kvakkefly/projects/joachim/open-elevation/data/7711_50m_33.tif\n",
      "Reducing file size on  /Users/kvakkefly/projects/joachim/open-elevation/data/7605_50m_33.tif\n",
      "Reducing file size on  /Users/kvakkefly/projects/joachim/open-elevation/data/7809_50m_33.tif\n",
      "Reducing file size on  /Users/kvakkefly/projects/joachim/open-elevation/data/6902_50m_33.tif\n",
      "Reducing file size on  /Users/kvakkefly/projects/joachim/open-elevation/data/6603_50m_33.tif\n",
      "Reducing file size on  /Users/kvakkefly/projects/joachim/open-elevation/data/7810_50m_33.tif\n",
      "Reducing file size on  /Users/kvakkefly/projects/joachim/open-elevation/data/7403_50m_33.tif\n",
      "Reducing file size on  /Users/kvakkefly/projects/joachim/open-elevation/data/7708_50m_33.tif\n",
      "Reducing file size on  /Users/kvakkefly/projects/joachim/open-elevation/data/7303_50m_33.tif\n",
      "Reducing file size on  /Users/kvakkefly/projects/joachim/open-elevation/data/6400_50m_33.tif\n",
      "Reducing file size on  /Users/kvakkefly/projects/joachim/open-elevation/data/7506_50m_33.tif\n",
      "Reducing file size on  /Users/kvakkefly/projects/joachim/open-elevation/data/6802_50m_33.tif\n",
      "Reducing file size on  /Users/kvakkefly/projects/joachim/open-elevation/data/7705_50m_33.tif\n",
      "Reducing file size on  /Users/kvakkefly/projects/joachim/open-elevation/data/7909_50m_33.tif\n",
      "Reducing file size on  /Users/kvakkefly/projects/joachim/open-elevation/data/7907_50m_33.tif\n",
      "Reducing file size on  /Users/kvakkefly/projects/joachim/open-elevation/data/6600_50m_33.tif\n",
      "Reducing file size on  /Users/kvakkefly/projects/joachim/open-elevation/data/7103_50m_33.tif\n",
      "Reducing file size on  /Users/kvakkefly/projects/joachim/open-elevation/data/69M1_50m_33.tif\n",
      "Reducing file size on  /Users/kvakkefly/projects/joachim/open-elevation/data/7706_50m_33.tif\n",
      "Reducing file size on  /Users/kvakkefly/projects/joachim/open-elevation/data/6801_50m_33.tif\n",
      "Reducing file size on  /Users/kvakkefly/projects/joachim/open-elevation/data/7505_50m_33.tif\n",
      "Reducing file size on  /Users/kvakkefly/projects/joachim/open-elevation/data/7003_50m_33.tif\n",
      "Reducing file size on  /Users/kvakkefly/projects/joachim/open-elevation/data/6700_50m_33.tif\n",
      "Reducing file size on  /Users/kvakkefly/projects/joachim/open-elevation/data/68M1_50m_33.tif\n",
      "Reducing file size on  /Users/kvakkefly/projects/joachim/open-elevation/data/6503_50m_33.tif\n",
      "Reducing file size on  /Users/kvakkefly/projects/joachim/open-elevation/data/7807_50m_33.tif\n",
      "Reducing file size on  /Users/kvakkefly/projects/joachim/open-elevation/data/6901_50m_33.tif\n",
      "Reducing file size on  /Users/kvakkefly/projects/joachim/open-elevation/data/7405_50m_33.tif\n",
      "Reducing file size on  /Users/kvakkefly/projects/joachim/open-elevation/data/7305_50m_33.tif\n",
      "Reducing file size on  /Users/kvakkefly/projects/joachim/open-elevation/data/7606_50m_33.tif\n",
      "Reducing file size on  /Users/kvakkefly/projects/joachim/open-elevation/data/7101_50m_33.tif\n",
      "Reducing file size on  /Users/kvakkefly/projects/joachim/open-elevation/data/6602_50m_33.tif\n",
      "Reducing file size on  /Users/kvakkefly/projects/joachim/open-elevation/data/7709_50m_33.tif\n",
      "Reducing file size on  /Users/kvakkefly/projects/joachim/open-elevation/data/6401_50m_33.tif\n",
      "Reducing file size on  /Users/kvakkefly/projects/joachim/open-elevation/data/7811_50m_33.tif\n",
      "Reducing file size on  /Users/kvakkefly/projects/joachim/open-elevation/data/6803_50m_33.tif\n",
      "Reducing file size on  /Users/kvakkefly/projects/joachim/open-elevation/data/7507_50m_33.tif\n",
      "Reducing file size on  /Users/kvakkefly/projects/joachim/open-elevation/data/7908_50m_33.tif\n",
      "Reducing file size on  /Users/kvakkefly/projects/joachim/open-elevation/data/7004_50m_33.tif\n",
      "Reducing file size on  /Users/kvakkefly/projects/joachim/open-elevation/data/65M1_50m_33.tif\n",
      "Reducing file size on  /Users/kvakkefly/projects/joachim/open-elevation/data/7202_50m_33.tif\n",
      "Reducing file size on  /Users/kvakkefly/projects/joachim/open-elevation/data/6501_50m_33.tif\n",
      "Reducing file size on  /Users/kvakkefly/projects/joachim/open-elevation/data/7609_50m_33.tif\n",
      "Reducing file size on  /Users/kvakkefly/projects/joachim/open-elevation/data/7911_50m_33.tif\n",
      "Reducing file size on  /Users/kvakkefly/projects/joachim/open-elevation/data/6702_50m_33.tif\n",
      "Reducing file size on  /Users/kvakkefly/projects/joachim/open-elevation/data/7001_50m_33.tif\n",
      "Reducing file size on  /Users/kvakkefly/projects/joachim/open-elevation/data/7808_50m_33.tif\n",
      "Reducing file size on  /Users/kvakkefly/projects/joachim/open-elevation/data/64M1_50m_33.tif\n",
      "Reducing file size on  /Users/kvakkefly/projects/joachim/open-elevation/data/7104_50m_33.tif\n",
      "Reducing file size on  /Users/kvakkefly/projects/joachim/open-elevation/data/7710_50m_33.tif\n",
      "Reducing file size on  /Users/kvakkefly/projects/joachim/open-elevation/data/7604_50m_33.tif\n",
      "Reducing file size on  /Users/kvakkefly/projects/joachim/open-elevation/data/6903_50m_33.tif\n"
     ]
    }
   ],
   "source": [
    "# os.makedirs(\"h60\", exist_ok=True)\n",
    "def scale_image(image, clip_at):\n",
    "    image = image/clip_at\n",
    "    image = np.clip(image, 0, 1)\n",
    "    image = (image * 255).astype(np.uint8)\n",
    "    return image\n",
    "\n",
    "for dirpath, dirnames, filenames in os.walk('/Users/kvakkefly/projects/joachim/open-elevation/data'):\n",
    "    for filename in filenames:\n",
    "        full_path = os.path.join(dirpath, filename)    \n",
    "        if full_path.endswith('tif'):\n",
    "            image = imread(full_path)\n",
    "            image = scale_image(image, clip_at = 60)\n",
    "            print(\"Reducing file size on \", full_path)\n",
    "#            imsave('heightdata/'+filename, image, compression ='zlib')\n",
    "            imsave('heightdata/'+filename, image)"
   ]
  },
  {
   "cell_type": "code",
   "execution_count": 9,
   "id": "bd55a4ec-cfc6-47da-a5d0-dd9b932656b9",
   "metadata": {},
   "outputs": [
    {
     "name": "stdout",
     "output_type": "stream",
     "text": [
      "heightdata/6502_50m_33.tfw\n"
     ]
    },
    {
     "ename": "FileNotFoundError",
     "evalue": "[Errno 2] No such file or directory: '/Users/kvakkefly/projects/QFyrLysAR/heightdata/6502_50m_33.tif'",
     "output_type": "error",
     "traceback": [
      "\u001b[0;31m---------------------------------------------------------------------------\u001b[0m",
      "\u001b[0;31mFileNotFoundError\u001b[0m                         Traceback (most recent call last)",
      "\u001b[0;32m/var/folders/9h/6qh92c_s3pbf0xwq21p13clc0000gn/T/ipykernel_73847/2225316218.py\u001b[0m in \u001b[0;36m?\u001b[0;34m()\u001b[0m\n\u001b[1;32m      6\u001b[0m         \u001b[0mfull_path\u001b[0m \u001b[0;34m=\u001b[0m \u001b[0mos\u001b[0m\u001b[0;34m.\u001b[0m\u001b[0mpath\u001b[0m\u001b[0;34m.\u001b[0m\u001b[0mjoin\u001b[0m\u001b[0;34m(\u001b[0m\u001b[0mdirpath\u001b[0m\u001b[0;34m,\u001b[0m \u001b[0mfilename\u001b[0m\u001b[0;34m)\u001b[0m\u001b[0;34m\u001b[0m\u001b[0;34m\u001b[0m\u001b[0m\n\u001b[1;32m      7\u001b[0m \u001b[0;34m\u001b[0m\u001b[0m\n\u001b[1;32m      8\u001b[0m         \u001b[0mprint\u001b[0m\u001b[0;34m(\u001b[0m\u001b[0mfull_path\u001b[0m\u001b[0;34m)\u001b[0m\u001b[0;34m\u001b[0m\u001b[0;34m\u001b[0m\u001b[0m\n\u001b[1;32m      9\u001b[0m         \u001b[0;32mif\u001b[0m \u001b[0mfull_path\u001b[0m\u001b[0;34m.\u001b[0m\u001b[0mendswith\u001b[0m\u001b[0;34m(\u001b[0m\u001b[0;34m'tfw'\u001b[0m\u001b[0;34m)\u001b[0m\u001b[0;34m:\u001b[0m\u001b[0;34m\u001b[0m\u001b[0;34m\u001b[0m\u001b[0m\n\u001b[0;32m---> 10\u001b[0;31m             \u001b[0mimage\u001b[0m \u001b[0;34m=\u001b[0m \u001b[0mimread\u001b[0m\u001b[0;34m(\u001b[0m\u001b[0mfull_path\u001b[0m\u001b[0;34m.\u001b[0m\u001b[0mreplace\u001b[0m\u001b[0;34m(\u001b[0m\u001b[0;34m\".tfw\"\u001b[0m\u001b[0;34m,\u001b[0m \u001b[0;34m\".tif\"\u001b[0m\u001b[0;34m)\u001b[0m\u001b[0;34m)\u001b[0m\u001b[0;34m\u001b[0m\u001b[0;34m\u001b[0m\u001b[0m\n\u001b[0m\u001b[1;32m     11\u001b[0m             \u001b[0mimage\u001b[0m\u001b[0;34m.\u001b[0m\u001b[0mshape\u001b[0m\u001b[0;34m\u001b[0m\u001b[0;34m\u001b[0m\u001b[0m\n\u001b[1;32m     12\u001b[0m             \u001b[0;32mwith\u001b[0m \u001b[0mopen\u001b[0m\u001b[0;34m(\u001b[0m\u001b[0mfull_path\u001b[0m\u001b[0;34m,\u001b[0m \u001b[0;34m'r'\u001b[0m\u001b[0;34m)\u001b[0m \u001b[0;32mas\u001b[0m \u001b[0mf\u001b[0m\u001b[0;34m:\u001b[0m\u001b[0;34m\u001b[0m\u001b[0;34m\u001b[0m\u001b[0m\n\u001b[1;32m     13\u001b[0m                 \u001b[0mlines\u001b[0m \u001b[0;34m=\u001b[0m \u001b[0mf\u001b[0m\u001b[0;34m.\u001b[0m\u001b[0mreadlines\u001b[0m\u001b[0;34m(\u001b[0m\u001b[0;34m)\u001b[0m\u001b[0;34m\u001b[0m\u001b[0;34m\u001b[0m\u001b[0m\n",
      "\u001b[0;32m/opt/homebrew/Caskroom/mambaforge/base/envs/jupyterlab/lib/python3.11/site-packages/tifffile/tifffile.py\u001b[0m in \u001b[0;36m?\u001b[0;34m(files, selection, aszarr, key, series, level, squeeze, maxworkers, buffersize, mode, name, offset, size, pattern, axesorder, categories, imread, sort, container, chunkshape, dtype, axestiled, ioworkers, chunkmode, fillvalue, zattrs, multiscales, omexml, out, out_inplace, _multifile, _useframes, **kwargs)\u001b[0m\n\u001b[1;32m   1074\u001b[0m \u001b[0;34m\u001b[0m\u001b[0m\n\u001b[1;32m   1075\u001b[0m         if isinstance(files, str) or not isinstance(\n\u001b[1;32m   1076\u001b[0m             \u001b[0mfiles\u001b[0m\u001b[0;34m,\u001b[0m \u001b[0mcollections\u001b[0m\u001b[0;34m.\u001b[0m\u001b[0mabc\u001b[0m\u001b[0;34m.\u001b[0m\u001b[0mSequence\u001b[0m\u001b[0;34m\u001b[0m\u001b[0;34m\u001b[0m\u001b[0m\n\u001b[1;32m   1077\u001b[0m         ):\n\u001b[0;32m-> 1078\u001b[0;31m             with TiffFile(\n\u001b[0m\u001b[1;32m   1079\u001b[0m                 \u001b[0mfiles\u001b[0m\u001b[0;34m,\u001b[0m\u001b[0;34m\u001b[0m\u001b[0;34m\u001b[0m\u001b[0m\n\u001b[1;32m   1080\u001b[0m                 \u001b[0mmode\u001b[0m\u001b[0;34m=\u001b[0m\u001b[0mmode\u001b[0m\u001b[0;34m,\u001b[0m\u001b[0;34m\u001b[0m\u001b[0;34m\u001b[0m\u001b[0m\n\u001b[1;32m   1081\u001b[0m                 \u001b[0mname\u001b[0m\u001b[0;34m=\u001b[0m\u001b[0mname\u001b[0m\u001b[0;34m,\u001b[0m\u001b[0;34m\u001b[0m\u001b[0;34m\u001b[0m\u001b[0m\n",
      "\u001b[0;32m/opt/homebrew/Caskroom/mambaforge/base/envs/jupyterlab/lib/python3.11/site-packages/tifffile/tifffile.py\u001b[0m in \u001b[0;36m?\u001b[0;34m(self, file, mode, name, offset, size, omexml, _multifile, _useframes, _parent, **is_flags)\u001b[0m\n\u001b[1;32m   4070\u001b[0m                 \u001b[0;32mraise\u001b[0m \u001b[0mValueError\u001b[0m\u001b[0;34m(\u001b[0m\u001b[0;34m'invalid OME-XML'\u001b[0m\u001b[0;34m)\u001b[0m\u001b[0;34m\u001b[0m\u001b[0;34m\u001b[0m\u001b[0m\n\u001b[1;32m   4071\u001b[0m             \u001b[0mself\u001b[0m\u001b[0;34m.\u001b[0m\u001b[0m_omexml\u001b[0m \u001b[0;34m=\u001b[0m \u001b[0momexml\u001b[0m\u001b[0;34m\u001b[0m\u001b[0;34m\u001b[0m\u001b[0m\n\u001b[1;32m   4072\u001b[0m             \u001b[0mself\u001b[0m\u001b[0;34m.\u001b[0m\u001b[0mis_ome\u001b[0m \u001b[0;34m=\u001b[0m \u001b[0;32mTrue\u001b[0m\u001b[0;34m\u001b[0m\u001b[0;34m\u001b[0m\u001b[0m\n\u001b[1;32m   4073\u001b[0m \u001b[0;34m\u001b[0m\u001b[0m\n\u001b[0;32m-> 4074\u001b[0;31m         \u001b[0mfh\u001b[0m \u001b[0;34m=\u001b[0m \u001b[0mFileHandle\u001b[0m\u001b[0;34m(\u001b[0m\u001b[0mfile\u001b[0m\u001b[0;34m,\u001b[0m \u001b[0mmode\u001b[0m\u001b[0;34m=\u001b[0m\u001b[0mmode\u001b[0m\u001b[0;34m,\u001b[0m \u001b[0mname\u001b[0m\u001b[0;34m=\u001b[0m\u001b[0mname\u001b[0m\u001b[0;34m,\u001b[0m \u001b[0moffset\u001b[0m\u001b[0;34m=\u001b[0m\u001b[0moffset\u001b[0m\u001b[0;34m,\u001b[0m \u001b[0msize\u001b[0m\u001b[0;34m=\u001b[0m\u001b[0msize\u001b[0m\u001b[0;34m)\u001b[0m\u001b[0;34m\u001b[0m\u001b[0;34m\u001b[0m\u001b[0m\n\u001b[0m\u001b[1;32m   4075\u001b[0m         \u001b[0mself\u001b[0m\u001b[0;34m.\u001b[0m\u001b[0m_fh\u001b[0m \u001b[0;34m=\u001b[0m \u001b[0mfh\u001b[0m\u001b[0;34m\u001b[0m\u001b[0;34m\u001b[0m\u001b[0m\n\u001b[1;32m   4076\u001b[0m         \u001b[0mself\u001b[0m\u001b[0;34m.\u001b[0m\u001b[0m_multifile\u001b[0m \u001b[0;34m=\u001b[0m \u001b[0;32mTrue\u001b[0m \u001b[0;32mif\u001b[0m \u001b[0m_multifile\u001b[0m \u001b[0;32mis\u001b[0m \u001b[0;32mNone\u001b[0m \u001b[0;32melse\u001b[0m \u001b[0mbool\u001b[0m\u001b[0;34m(\u001b[0m\u001b[0m_multifile\u001b[0m\u001b[0;34m)\u001b[0m\u001b[0;34m\u001b[0m\u001b[0;34m\u001b[0m\u001b[0m\n\u001b[1;32m   4077\u001b[0m         \u001b[0mself\u001b[0m\u001b[0;34m.\u001b[0m\u001b[0m_files\u001b[0m \u001b[0;34m=\u001b[0m \u001b[0;34m{\u001b[0m\u001b[0mfh\u001b[0m\u001b[0;34m.\u001b[0m\u001b[0mname\u001b[0m\u001b[0;34m:\u001b[0m \u001b[0mself\u001b[0m\u001b[0;34m}\u001b[0m\u001b[0;34m\u001b[0m\u001b[0;34m\u001b[0m\u001b[0m\n",
      "\u001b[0;32m/opt/homebrew/Caskroom/mambaforge/base/envs/jupyterlab/lib/python3.11/site-packages/tifffile/tifffile.py\u001b[0m in \u001b[0;36m?\u001b[0;34m(self, file, mode, name, offset, size)\u001b[0m\n\u001b[1;32m  14210\u001b[0m         \u001b[0mself\u001b[0m\u001b[0;34m.\u001b[0m\u001b[0m_offset\u001b[0m \u001b[0;34m=\u001b[0m \u001b[0;34m-\u001b[0m\u001b[0;36m1\u001b[0m \u001b[0;32mif\u001b[0m \u001b[0moffset\u001b[0m \u001b[0;32mis\u001b[0m \u001b[0;32mNone\u001b[0m \u001b[0;32melse\u001b[0m \u001b[0moffset\u001b[0m\u001b[0;34m\u001b[0m\u001b[0;34m\u001b[0m\u001b[0m\n\u001b[1;32m  14211\u001b[0m         \u001b[0mself\u001b[0m\u001b[0;34m.\u001b[0m\u001b[0m_size\u001b[0m \u001b[0;34m=\u001b[0m \u001b[0;34m-\u001b[0m\u001b[0;36m1\u001b[0m \u001b[0;32mif\u001b[0m \u001b[0msize\u001b[0m \u001b[0;32mis\u001b[0m \u001b[0;32mNone\u001b[0m \u001b[0;32melse\u001b[0m \u001b[0msize\u001b[0m\u001b[0;34m\u001b[0m\u001b[0;34m\u001b[0m\u001b[0m\n\u001b[1;32m  14212\u001b[0m         \u001b[0mself\u001b[0m\u001b[0;34m.\u001b[0m\u001b[0m_close\u001b[0m \u001b[0;34m=\u001b[0m \u001b[0;32mTrue\u001b[0m\u001b[0;34m\u001b[0m\u001b[0;34m\u001b[0m\u001b[0m\n\u001b[1;32m  14213\u001b[0m         \u001b[0mself\u001b[0m\u001b[0;34m.\u001b[0m\u001b[0m_lock\u001b[0m \u001b[0;34m=\u001b[0m \u001b[0mNullContext\u001b[0m\u001b[0;34m(\u001b[0m\u001b[0;34m)\u001b[0m\u001b[0;34m\u001b[0m\u001b[0;34m\u001b[0m\u001b[0m\n\u001b[0;32m> 14214\u001b[0;31m         \u001b[0mself\u001b[0m\u001b[0;34m.\u001b[0m\u001b[0mopen\u001b[0m\u001b[0;34m(\u001b[0m\u001b[0;34m)\u001b[0m\u001b[0;34m\u001b[0m\u001b[0;34m\u001b[0m\u001b[0m\n\u001b[0m\u001b[1;32m  14215\u001b[0m         \u001b[0;32massert\u001b[0m \u001b[0mself\u001b[0m\u001b[0;34m.\u001b[0m\u001b[0m_fh\u001b[0m \u001b[0;32mis\u001b[0m \u001b[0;32mnot\u001b[0m \u001b[0;32mNone\u001b[0m\u001b[0;34m\u001b[0m\u001b[0;34m\u001b[0m\u001b[0m\n",
      "\u001b[0;32m/opt/homebrew/Caskroom/mambaforge/base/envs/jupyterlab/lib/python3.11/site-packages/tifffile/tifffile.py\u001b[0m in \u001b[0;36m?\u001b[0;34m(self)\u001b[0m\n\u001b[1;32m  14229\u001b[0m             \u001b[0;32mif\u001b[0m \u001b[0mself\u001b[0m\u001b[0;34m.\u001b[0m\u001b[0m_mode\u001b[0m \u001b[0;32mnot\u001b[0m \u001b[0;32min\u001b[0m \u001b[0;34m{\u001b[0m\u001b[0;34m'rb'\u001b[0m\u001b[0;34m,\u001b[0m \u001b[0;34m'r+b'\u001b[0m\u001b[0;34m,\u001b[0m \u001b[0;34m'wb'\u001b[0m\u001b[0;34m,\u001b[0m \u001b[0;34m'xb'\u001b[0m\u001b[0;34m}\u001b[0m\u001b[0;34m:\u001b[0m\u001b[0;34m\u001b[0m\u001b[0;34m\u001b[0m\u001b[0m\n\u001b[1;32m  14230\u001b[0m                 \u001b[0;32mraise\u001b[0m \u001b[0mValueError\u001b[0m\u001b[0;34m(\u001b[0m\u001b[0;34mf'invalid mode {self._mode}'\u001b[0m\u001b[0;34m)\u001b[0m\u001b[0;34m\u001b[0m\u001b[0;34m\u001b[0m\u001b[0m\n\u001b[1;32m  14231\u001b[0m             \u001b[0mself\u001b[0m\u001b[0;34m.\u001b[0m\u001b[0m_file\u001b[0m \u001b[0;34m=\u001b[0m \u001b[0mos\u001b[0m\u001b[0;34m.\u001b[0m\u001b[0mpath\u001b[0m\u001b[0;34m.\u001b[0m\u001b[0mrealpath\u001b[0m\u001b[0;34m(\u001b[0m\u001b[0mself\u001b[0m\u001b[0;34m.\u001b[0m\u001b[0m_file\u001b[0m\u001b[0;34m)\u001b[0m\u001b[0;34m\u001b[0m\u001b[0;34m\u001b[0m\u001b[0m\n\u001b[1;32m  14232\u001b[0m             \u001b[0mself\u001b[0m\u001b[0;34m.\u001b[0m\u001b[0m_dir\u001b[0m\u001b[0;34m,\u001b[0m \u001b[0mself\u001b[0m\u001b[0;34m.\u001b[0m\u001b[0m_name\u001b[0m \u001b[0;34m=\u001b[0m \u001b[0mos\u001b[0m\u001b[0;34m.\u001b[0m\u001b[0mpath\u001b[0m\u001b[0;34m.\u001b[0m\u001b[0msplit\u001b[0m\u001b[0;34m(\u001b[0m\u001b[0mself\u001b[0m\u001b[0;34m.\u001b[0m\u001b[0m_file\u001b[0m\u001b[0;34m)\u001b[0m\u001b[0;34m\u001b[0m\u001b[0;34m\u001b[0m\u001b[0m\n\u001b[0;32m> 14233\u001b[0;31m             self._fh = open(\n\u001b[0m\u001b[1;32m  14234\u001b[0m                 \u001b[0mself\u001b[0m\u001b[0;34m.\u001b[0m\u001b[0m_file\u001b[0m\u001b[0;34m,\u001b[0m \u001b[0mself\u001b[0m\u001b[0;34m.\u001b[0m\u001b[0m_mode\u001b[0m\u001b[0;34m,\u001b[0m \u001b[0mencoding\u001b[0m\u001b[0;34m=\u001b[0m\u001b[0;32mNone\u001b[0m\u001b[0;34m\u001b[0m\u001b[0;34m\u001b[0m\u001b[0m\n\u001b[1;32m  14235\u001b[0m             )  # type: ignore\n\u001b[1;32m  14236\u001b[0m             \u001b[0mself\u001b[0m\u001b[0;34m.\u001b[0m\u001b[0m_close\u001b[0m \u001b[0;34m=\u001b[0m \u001b[0;32mTrue\u001b[0m\u001b[0;34m\u001b[0m\u001b[0;34m\u001b[0m\u001b[0m\n",
      "\u001b[0;31mFileNotFoundError\u001b[0m: [Errno 2] No such file or directory: '/Users/kvakkefly/projects/QFyrLysAR/heightdata/6502_50m_33.tif'"
     ]
    }
   ],
   "source": [
    "files = []\n",
    "\n",
    "# for dirpath, dirnames, filenames in os.walk('../open-elevation/data/'):\n",
    "for dirpath, dirnames, filenames in os.walk('heightdata/'):\n",
    "    for filename in filenames:\n",
    "        full_path = os.path.join(dirpath, filename)    \n",
    "        \n",
    "        print(full_path)\n",
    "        if full_path.endswith('tfw'):\n",
    "            image = imread(full_path.replace(\".tfw\", \".tif\"))\n",
    "            image.shape\n",
    "            with open(full_path, 'r') as f:\n",
    "                lines = f.readlines()\n",
    "                delta_x = float(lines[0])\n",
    "                delta_y = float(lines[3])\n",
    "                x0 = float(lines[4]) - delta_x * 0.5\n",
    "                y0 = float(lines[5]) - delta_y * 0.5\n",
    "                x1 = x0 + delta_x * image.shape[1]\n",
    "                y1 = y0 + delta_y * image.shape[0]\n",
    "                files.append({\n",
    "                    'filename': full_path.replace(\".tfw\", \".tif\"),\n",
    "                    'pixel_size': (delta_x, delta_y),\n",
    "                    'coords': ( y1,\n",
    "                                y0,\n",
    "                                x0,\n",
    "                                x1,)\n",
    "                })\n",
    "                print(x0, y0, x1, y1)"
   ]
  },
  {
   "cell_type": "code",
   "execution_count": null,
   "id": "0b69b7fe-2b41-4fd5-8401-1cd6155ee333",
   "metadata": {},
   "outputs": [],
   "source": [
    "files"
   ]
  },
  {
   "cell_type": "code",
   "execution_count": null,
   "id": "8737a180",
   "metadata": {},
   "outputs": [],
   "source": [
    "import math\n",
    "\n",
    "def latlon_to_utm33(latitude, longitude):\n",
    "    # Constants for WGS84 ellipsoid\n",
    "    a = 6378137.0  # semi-major axis in meters\n",
    "    f = 1 / 298.257223563  # flattening\n",
    "    e_sq = 2 * f - f**2  # square of eccentricity\n",
    "    k0 = 0.9996  # scale factor\n",
    "    lon_origin = 15  # central meridian for UTM Zone 33\n",
    "    \n",
    "    # Convert latitude and longitude from degrees to radians\n",
    "    lat_rad = math.radians(latitude)\n",
    "    lon_rad = math.radians(longitude)\n",
    "    \n",
    "    N = a / math.sqrt(1 - e_sq * math.sin(lat_rad)**2)\n",
    "    T = math.tan(lat_rad)**2\n",
    "    C = e_sq / (1 - e_sq) * math.cos(lat_rad)**2\n",
    "    A = math.cos(lat_rad) * (lon_rad - math.radians(lon_origin))\n",
    "    \n",
    "    M = a * ((1 - e_sq / 4 - 3 * e_sq**2 / 64 - 5 * e_sq**3 / 256) * lat_rad - \n",
    "             (3 * e_sq / 8 + 3 * e_sq**2 / 32 + 45 * e_sq**3 / 1024) * math.sin(2 * lat_rad) + \n",
    "             (15 * e_sq**2 / 256 + 45 * e_sq**3 / 1024) * math.sin(4 * lat_rad) - \n",
    "             (35 * e_sq**3 / 3072) * math.sin(6 * lat_rad))\n",
    "    \n",
    "    x = k0 * N * (A + (1 - T + C) * A**3 / 6 + \n",
    "                  (5 - 18 * T + T**2 + 72 * C - 58 * e_sq) * A**5 / 120)\n",
    "    \n",
    "    y = k0 * (M + N * math.tan(lat_rad) * (A**2 / 2 + (5 - T + 9 * C + 4 * C**2) * A**4 / 24 + \n",
    "                                           (61 - 58 * T + T**2 + 600 * C - 330 * e_sq) * A**6 / 720))\n",
    "    \n",
    "    # Adjust for northern and southern hemispheres\n",
    "    if latitude < 0:\n",
    "        y += 10000000  # 10 million meter offset for southern hemisphere\n",
    "    \n",
    "    x += 500000  # 500,000 meter offset for all UTM zones\n",
    "    \n",
    "    return x, y\n"
   ]
  },
  {
   "cell_type": "code",
   "execution_count": 13,
   "id": "b3fcb753",
   "metadata": {},
   "outputs": [
    {
     "name": "stdout",
     "output_type": "stream",
     "text": [
      "Found utm33 273980.3161553235 6547250.317129512\n"
     ]
    },
    {
     "ename": "TypeError",
     "evalue": "'NoneType' object is not subscriptable",
     "output_type": "error",
     "traceback": [
      "\u001b[0;31m---------------------------------------------------------------------------\u001b[0m",
      "\u001b[0;31mTypeError\u001b[0m                                 Traceback (most recent call last)",
      "Cell \u001b[0;32mIn[13], line 26\u001b[0m\n\u001b[1;32m     23\u001b[0m     \u001b[38;5;28mprint\u001b[39m(x_index, y_index, file[\u001b[38;5;124m'\u001b[39m\u001b[38;5;124mfilename\u001b[39m\u001b[38;5;124m'\u001b[39m])\n\u001b[1;32m     24\u001b[0m     \u001b[38;5;28;01mreturn\u001b[39;00m image[y_index, x_index] \u001b[38;5;241m/\u001b[39m \u001b[38;5;241m255\u001b[39m \u001b[38;5;241m*\u001b[39m \u001b[38;5;241m60\u001b[39m\n\u001b[0;32m---> 26\u001b[0m \u001b[43mfind_height\u001b[49m\u001b[43m(\u001b[49m\u001b[38;5;241;43m59.004844\u001b[39;49m\u001b[43m,\u001b[49m\u001b[43m \u001b[49m\u001b[38;5;241;43m11.063953\u001b[39;49m\u001b[43m)\u001b[49m\n",
      "Cell \u001b[0;32mIn[13], line 18\u001b[0m, in \u001b[0;36mfind_height\u001b[0;34m(latitude, longitude)\u001b[0m\n\u001b[1;32m     16\u001b[0m \u001b[38;5;28mprint\u001b[39m(\u001b[38;5;124m\"\u001b[39m\u001b[38;5;124mFound utm33\u001b[39m\u001b[38;5;124m\"\u001b[39m, x,y)\n\u001b[1;32m     17\u001b[0m file \u001b[38;5;241m=\u001b[39m find_file(x, y)\n\u001b[0;32m---> 18\u001b[0m image \u001b[38;5;241m=\u001b[39m imread(\u001b[43mfile\u001b[49m\u001b[43m[\u001b[49m\u001b[38;5;124;43m'\u001b[39;49m\u001b[38;5;124;43mfilename\u001b[39;49m\u001b[38;5;124;43m'\u001b[39;49m\u001b[43m]\u001b[49m)\n\u001b[1;32m     19\u001b[0m ( y0, y1, x0, x1) \u001b[38;5;241m=\u001b[39m file[\u001b[38;5;124m'\u001b[39m\u001b[38;5;124mcoords\u001b[39m\u001b[38;5;124m'\u001b[39m]\n\u001b[1;32m     20\u001b[0m (delta_x, delta_y) \u001b[38;5;241m=\u001b[39m file[\u001b[38;5;124m'\u001b[39m\u001b[38;5;124mpixel_size\u001b[39m\u001b[38;5;124m'\u001b[39m]\n",
      "\u001b[0;31mTypeError\u001b[0m: 'NoneType' object is not subscriptable"
     ]
    }
   ],
   "source": [
    "def find_file(x, y):\n",
    "    for file in files:\n",
    "        ( y0, y1, x0, x1) = file['coords']\n",
    "        if x0 <= x <= x1 and y0 <= y <= y1:\n",
    "            return file\n",
    "    return None\n",
    "\n",
    "def find_height(latitude, longitude):\n",
    "    \"\"\"\n",
    "    Find the height of the terrain at the given longitude and latitude.\n",
    "    :param longitude:\n",
    "    :param latitude:\n",
    "    :return:\n",
    "    \"\"\"\n",
    "    x, y = latlon_to_utm33(latitude, longitude)\n",
    "    print(\"Found utm33\", x,y)\n",
    "    file = find_file(x, y)\n",
    "    image = imread(file['filename'])\n",
    "    ( y0, y1, x0, x1) = file['coords']\n",
    "    (delta_x, delta_y) = file['pixel_size']\n",
    "    x_index = int((x - x0) / delta_x)\n",
    "    y_index = int((y1 - y) / abs(delta_y))\n",
    "    print(x_index, y_index, file['filename'])\n",
    "    return image[y_index, x_index] / 255 * 60\n",
    "    \n",
    "find_height(59.004844, 11.063953)"
   ]
  },
  {
   "cell_type": "code",
   "execution_count": null,
   "id": "24851c1b-7367-40fd-b8a8-bf6c09be2e67",
   "metadata": {},
   "outputs": [],
   "source": []
  }
 ],
 "metadata": {
  "kernelspec": {
   "display_name": "Python 3 (ipykernel)",
   "language": "python",
   "name": "python3"
  },
  "language_info": {
   "codemirror_mode": {
    "name": "ipython",
    "version": 3
   },
   "file_extension": ".py",
   "mimetype": "text/x-python",
   "name": "python",
   "nbconvert_exporter": "python",
   "pygments_lexer": "ipython3",
   "version": "3.11.6"
  }
 },
 "nbformat": 4,
 "nbformat_minor": 5
}
